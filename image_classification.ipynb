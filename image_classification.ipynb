{
  "cells": [
    {
      "cell_type": "code",
      "execution_count": null,
      "metadata": {
        "id": "uGOoWkpja-ni"
      },
      "outputs": [],
      "source": [
        "import pandas as pd\n"
      ]
    },
    {
      "cell_type": "code",
      "execution_count": null,
      "metadata": {
        "id": "PFdUXz55ygfs"
      },
      "outputs": [],
      "source": [
        "\n",
        "import tensorflow as tf\n",
        "from tensorflow.keras.layers import Input,Lambda, Dense, Flatten\n",
        "from tensorflow.keras import datasets, layers, models\n",
        "from tensorflow.keras.models import Model, Sequential\n",
        "from tensorflow.keras.applications.inception_v3 import InceptionV3,preprocess_input\n",
        "from keras.applications import  vgg16\n",
        "from tensorflow.keras.preprocessing import image\n",
        "from tensorflow.keras.preprocessing.image import ImageDataGenerator,load_img\n",
        "from tensorflow.keras.callbacks import ModelCheckpoint\n",
        "from glob import glob\n",
        "import numpy as np\n",
        "import matplotlib.pyplot as plt\n",
        "import keras\n",
        "from keras.layers import Convolution2D, MaxPooling2D, ZeroPadding2D, GlobalAveragePooling2D, AveragePooling2D"
      ]
    },
    {
      "cell_type": "code",
      "execution_count": null,
      "metadata": {
        "colab": {
          "base_uri": "https://localhost:8080/"
        },
        "id": "r61PWXBiykIt",
        "outputId": "698dfcc8-ef0e-4f13-e613-3becdcff5e55"
      },
      "outputs": [
        {
          "output_type": "stream",
          "name": "stdout",
          "text": [
            "Device: grpc://10.10.232.162:8470\n",
            "Number of replicas: 8\n"
          ]
        }
      ],
      "source": [
        "\n",
        "from tensorflow.keras.applications import (\n",
        "        vgg16,\n",
        "        resnet50,\n",
        "        mobilenet,\n",
        "        inception_v3\n",
        "    )\n",
        "try:\n",
        "    tpu = tf.distribute.cluster_resolver.TPUClusterResolver.connect()\n",
        "    print(\"Device:\", tpu.master())\n",
        "    strategy = tf.distribute.TPUStrategy(tpu)\n",
        "except:\n",
        "    strategy = tf.distribute.get_strategy()\n",
        "print(\"Number of replicas:\", strategy.num_replicas_in_sync)"
      ]
    },
    {
      "cell_type": "code",
      "source": [
        "AUTOTUNE = tf.data.AUTOTUNE\n",
        "BATCH_SIZE = 25 * strategy.num_replicas_in_sync\n",
        "IMAGE_SIZE = [180, 180]\n",
        "CLASS_NAMES = [\"NORMAL\", \"PNEUMONIA\"]"
      ],
      "metadata": {
        "id": "P3z67yxCTALA"
      },
      "execution_count": null,
      "outputs": []
    },
    {
      "cell_type": "code",
      "execution_count": null,
      "metadata": {
        "id": "ma8qVcnFyms2"
      },
      "outputs": [],
      "source": [
        "train_images = tf.data.TFRecordDataset(\n",
        "    \"gs://download.tensorflow.org/data/ChestXRay2017/train/images.tfrec\"\n",
        ")\n",
        "train_paths = tf.data.TFRecordDataset(\n",
        "    \"gs://download.tensorflow.org/data/ChestXRay2017/train/paths.tfrec\"\n",
        ")\n",
        "\n",
        "ds = tf.data.Dataset.zip((train_images, train_paths))\n"
      ]
    },
    {
      "cell_type": "code",
      "execution_count": null,
      "metadata": {
        "id": "gLqCG7voyq9a",
        "colab": {
          "base_uri": "https://localhost:8080/"
        },
        "outputId": "734bb3b5-1ea1-45c7-8930-645a0437c6f3"
      },
      "outputs": [
        {
          "output_type": "stream",
          "name": "stderr",
          "text": [
            "Exception ignored in: <function Executor.__del__ at 0x7aef8a1e71c0>\n",
            "Traceback (most recent call last):\n",
            "  File \"/usr/local/lib/python3.10/dist-packages/tensorflow/python/eager/executor.py\", line 46, in __del__\n",
            "    self.wait()\n",
            "  File \"/usr/local/lib/python3.10/dist-packages/tensorflow/python/eager/executor.py\", line 65, in wait\n",
            "    pywrap_tfe.TFE_ExecutorWaitForAllPendingNodes(self._handle)\n",
            "tensorflow.python.framework.errors_impl.OutOfRangeError: End of sequence\n"
          ]
        },
        {
          "output_type": "stream",
          "name": "stdout",
          "text": [
            "Normal images count in training set: 1349\n"
          ]
        },
        {
          "output_type": "stream",
          "name": "stderr",
          "text": [
            "Exception ignored in: <function Executor.__del__ at 0x7aef8a1e71c0>\n",
            "Traceback (most recent call last):\n",
            "  File \"/usr/local/lib/python3.10/dist-packages/tensorflow/python/eager/executor.py\", line 46, in __del__\n",
            "    self.wait()\n",
            "  File \"/usr/local/lib/python3.10/dist-packages/tensorflow/python/eager/executor.py\", line 65, in wait\n",
            "    pywrap_tfe.TFE_ExecutorWaitForAllPendingNodes(self._handle)\n",
            "tensorflow.python.framework.errors_impl.OutOfRangeError: End of sequence\n"
          ]
        },
        {
          "output_type": "stream",
          "name": "stdout",
          "text": [
            "Pneumonia images count in training set: 3883\n"
          ]
        }
      ],
      "source": [
        "COUNT_NORMAL = len(\n",
        "    [\n",
        "        filename\n",
        "        for filename in train_paths\n",
        "        if \"NORMAL\" in filename.numpy().decode(\"utf-8\")\n",
        "    ]\n",
        ")\n",
        "print(\"Normal images count in training set: \" + str(COUNT_NORMAL))\n",
        "\n",
        "COUNT_PNEUMONIA = len(\n",
        "    [\n",
        "        filename\n",
        "        for filename in train_paths\n",
        "        if \"PNEUMONIA\" in filename.numpy().decode(\"utf-8\")\n",
        "    ]\n",
        ")\n",
        "print(\"Pneumonia images count in training set: \" + str(COUNT_PNEUMONIA))"
      ]
    },
    {
      "cell_type": "code",
      "execution_count": null,
      "metadata": {
        "id": "Y_3tjhSGyuui"
      },
      "outputs": [],
      "source": [
        "def get_label(file_path):\n",
        "    # convert the path to a list of path components\n",
        "    parts = tf.strings.split(file_path, \"/\")\n",
        "    # The second to last is the class-directory\n",
        "    return parts[-2] == \"PNEUMONIA\"\n",
        "\n",
        "\n",
        "def decode_img(img):\n",
        "    # convert the compressed string to a 3D uint8 tensor\n",
        "    img = tf.image.decode_jpeg(img, channels=3)\n",
        "    # resize the image to the desired size.\n",
        "    return tf.image.resize(img, IMAGE_SIZE)\n",
        "\n",
        "\n",
        "def process_path(image, path):\n",
        "    label = get_label(path)\n",
        "    # load the raw data from the file as a string\n",
        "    img = decode_img(image)\n",
        "    return img, label\n",
        "\n",
        "\n",
        "ds = ds.map(process_path, num_parallel_calls=AUTOTUNE)"
      ]
    },
    {
      "cell_type": "code",
      "source": [
        "ds = ds.shuffle(10000)\n",
        "train_ds = ds.take(4200)\n",
        "val_ds = ds.skip(4200)"
      ],
      "metadata": {
        "id": "G1LCulf-m2IX"
      },
      "execution_count": null,
      "outputs": []
    },
    {
      "cell_type": "code",
      "source": [
        "test_images = tf.data.TFRecordDataset(\n",
        "    \"gs://download.tensorflow.org/data/ChestXRay2017/test/images.tfrec\"\n",
        ")\n",
        "test_paths = tf.data.TFRecordDataset(\n",
        "    \"gs://download.tensorflow.org/data/ChestXRay2017/test/paths.tfrec\"\n",
        ")\n",
        "test_ds = tf.data.Dataset.zip((test_images, test_paths))\n",
        "\n",
        "test_ds = test_ds.map(process_path, num_parallel_calls=AUTOTUNE)\n",
        "test_ds = test_ds.batch(BATCH_SIZE)"
      ],
      "metadata": {
        "id": "AUk7c-tFsT6B"
      },
      "execution_count": null,
      "outputs": []
    },
    {
      "cell_type": "code",
      "source": [
        "def prepare_for_training(ds, cache=True):\n",
        "    # This is a small dataset, only load it once, and keep it in memory.\n",
        "    # use `.cache(filename)` to cache preprocessing work for datasets that don't\n",
        "    # fit in memory.\n",
        "    if cache:\n",
        "        if isinstance(cache, str):\n",
        "            ds = ds.cache(cache)\n",
        "        else:\n",
        "            ds = ds.cache()\n",
        "\n",
        "    ds = ds.batch(BATCH_SIZE)\n",
        "\n",
        "    # `prefetch` lets the dataset fetch batches in the background while the model\n",
        "    # is training.\n",
        "    ds = ds.prefetch(buffer_size=AUTOTUNE)\n",
        "\n",
        "    return ds"
      ],
      "metadata": {
        "id": "RIfm_S3JTU5y"
      },
      "execution_count": null,
      "outputs": []
    },
    {
      "cell_type": "code",
      "source": [
        "train_ds = prepare_for_training(train_ds)\n",
        "val_ds = prepare_for_training(val_ds)\n",
        "\n",
        "image_batch, label_batch = next(iter(train_ds))"
      ],
      "metadata": {
        "id": "gvOkG318TcnO"
      },
      "execution_count": null,
      "outputs": []
    },
    {
      "cell_type": "code",
      "source": [
        "def show_batch(image_batch, label_batch):\n",
        "    plt.figure(figsize=(10, 10))\n",
        "    for n in range(25):\n",
        "        ax = plt.subplot(5, 5, n + 1)\n",
        "        plt.imshow(image_batch[n] / 255)\n",
        "        if label_batch[n]:\n",
        "            plt.title(\"PNEUMONIA\")\n",
        "        else:\n",
        "            plt.title(\"NORMAL\")\n",
        "        plt.axis(\"off\")"
      ],
      "metadata": {
        "id": "RpdAqJQTThR-"
      },
      "execution_count": null,
      "outputs": []
    },
    {
      "cell_type": "code",
      "source": [],
      "metadata": {
        "id": "-aqOF-viTh8v"
      },
      "execution_count": null,
      "outputs": []
    },
    {
      "cell_type": "markdown",
      "source": [
        "class_names = train_ds.class_names\n",
        "print(class_names)"
      ],
      "metadata": {
        "id": "jwF7cvX0yxgY"
      }
    },
    {
      "cell_type": "code",
      "execution_count": null,
      "metadata": {
        "id": "iGijQxEtyzrJ"
      },
      "outputs": [],
      "source": [
        "inputs = keras.Input(shape=(IMAGE_SIZE[0], IMAGE_SIZE[1], 3))\n",
        "x = layers.Rescaling(1.0 / 255)(inputs)\n",
        "\n",
        "\n",
        "x = layers.Rescaling(1.0 / 255)(inputs)\n",
        "x = layers.Conv2D(16, 3, activation=\"relu\", padding=\"same\")(x)\n",
        "x = layers.Conv2D(16, 3, activation=\"relu\", padding=\"same\")(x)\n",
        "x = layers.MaxPool2D()(x)\n",
        "#First\n",
        "x = layers.SeparableConv2D(32, 3, activation=\"relu\", padding=\"same\")(x)\n",
        "x = layers.SeparableConv2D(16, 3, activation=\"relu\", padding=\"same\")(x)\n",
        "x = layers.BatchNormalization()(x)\n",
        "x = layers.MaxPool2D()(x)\n",
        "#Second\n",
        "x = layers.SeparableConv2D(64, 3, activation=\"relu\", padding=\"same\")(x)\n",
        "x = layers.SeparableConv2D(16, 3, activation=\"relu\", padding=\"same\")(x)\n",
        "x = layers.BatchNormalization()(x)\n",
        "x = layers.MaxPool2D()(x)\n",
        "#Third\n",
        "x = layers.SeparableConv2D(128, 3, activation=\"relu\", padding=\"same\")(x)\n",
        "x = layers.SeparableConv2D(16, 3, activation=\"relu\", padding=\"same\")(x)\n",
        "x = layers.BatchNormalization()(x)\n",
        "x = layers.MaxPool2D()(x)\n",
        "#forth\n",
        "x = layers.SeparableConv2D(258, 3, activation=\"relu\", padding=\"same\")(x)\n",
        "x = layers.SeparableConv2D(16, 3, activation=\"relu\", padding=\"same\")(x)\n",
        "x = layers.BatchNormalization()(x)\n",
        "x = layers.MaxPool2D()(x)\n",
        "#Dropout\n",
        "x = layers.Dropout(0.2)(x)\n",
        "#Fc layer\n",
        "x = layers.Flatten()(x)\n",
        "\n",
        "\n",
        "#Dense Layer\n",
        "x = layers.Dense(512, activation=\"relu\")(x)\n",
        "x = layers.BatchNormalization()(x)\n",
        "x = layers.Dropout(0.7)(x)\n",
        "#Second\n",
        "x = layers.Dense(128, activation=\"relu\")(x)\n",
        "x = layers.BatchNormalization()(x)\n",
        "x = layers.Dropout(0.5)(x)\n",
        "#Third\n",
        "x = layers.Dense(64, activation=\"relu\")(x)\n",
        "x = layers.BatchNormalization()(x)\n",
        "x = layers.Dropout(0.3)(x)\n",
        "\n",
        "#I/O\n",
        "\n",
        "outputs = layers.Dense(1, activation=\"sigmoid\")(x)\n",
        "\n",
        "\n",
        "\n",
        "\n",
        "model = Model(inputs=inputs, outputs=outputs)\n"
      ]
    },
    {
      "cell_type": "code",
      "source": [
        "checkpoint_cb = tf.keras.callbacks.ModelCheckpoint(\"xray_model.h5\", save_best_only=True)\n",
        "\n",
        "early_stopping_cb = tf.keras.callbacks.EarlyStopping(\n",
        "    patience=10, restore_best_weights=True\n",
        ")"
      ],
      "metadata": {
        "id": "OteMfSYzadB4"
      },
      "execution_count": null,
      "outputs": []
    },
    {
      "cell_type": "code",
      "source": [
        "initial_bias = np.log([COUNT_PNEUMONIA / COUNT_NORMAL])\n",
        "print(\"Initial bias: {:.5f}\".format(initial_bias[0]))\n",
        "\n",
        "TRAIN_IMG_COUNT = COUNT_NORMAL + COUNT_PNEUMONIA\n",
        "weight_for_0 = (1 / COUNT_NORMAL) * (TRAIN_IMG_COUNT) / 2.0\n",
        "weight_for_1 = (1 / COUNT_PNEUMONIA) * (TRAIN_IMG_COUNT) / 2.0\n",
        "\n",
        "class_weight = {0: weight_for_0, 1: weight_for_1}\n",
        "\n",
        "print(\"Weight for class 0: {:.2f}\".format(weight_for_0))\n",
        "print(\"Weight for class 1: {:.2f}\".format(weight_for_1))"
      ],
      "metadata": {
        "colab": {
          "base_uri": "https://localhost:8080/"
        },
        "id": "nsQocsoiaaEg",
        "outputId": "84ab7c0e-cc6a-4154-bc2a-f041a83bcf94"
      },
      "execution_count": null,
      "outputs": [
        {
          "output_type": "stream",
          "name": "stdout",
          "text": [
            "Initial bias: 1.05724\n",
            "Weight for class 0: 1.94\n",
            "Weight for class 1: 0.67\n"
          ]
        }
      ]
    },
    {
      "cell_type": "code",
      "execution_count": null,
      "metadata": {
        "id": "bMudsKoKy2Cq"
      },
      "outputs": [],
      "source": [
        "from keras.optimizers import Adam"
      ]
    },
    {
      "cell_type": "code",
      "execution_count": null,
      "metadata": {
        "colab": {
          "base_uri": "https://localhost:8080/"
        },
        "id": "e4Gg9AXYy40D",
        "outputId": "6a062f93-35d9-456c-82ae-c03e6f137465"
      },
      "outputs": [
        {
          "output_type": "execute_result",
          "data": {
            "text/plain": [
              "{'name': 'Adam',\n",
              " 'weight_decay': None,\n",
              " 'clipnorm': None,\n",
              " 'global_clipnorm': None,\n",
              " 'clipvalue': None,\n",
              " 'use_ema': False,\n",
              " 'ema_momentum': 0.99,\n",
              " 'ema_overwrite_frequency': None,\n",
              " 'jit_compile': False,\n",
              " 'is_legacy_optimizer': False,\n",
              " 'learning_rate': {'class_name': 'ExponentialDecay',\n",
              "  'config': {'initial_learning_rate': 0.01,\n",
              "   'decay_steps': 100000,\n",
              "   'decay_rate': 0.96,\n",
              "   'staircase': True,\n",
              "   'name': None}},\n",
              " 'beta_1': 0.9,\n",
              " 'beta_2': 0.999,\n",
              " 'epsilon': 1e-07,\n",
              " 'amsgrad': False}"
            ]
          },
          "metadata": {},
          "execution_count": 17
        }
      ],
      "source": [
        "initial_learning_rate=0.01\n",
        "lr_schedule = tf.keras.optimizers.schedules.ExponentialDecay(\n",
        "   initial_learning_rate, decay_steps=100000, decay_rate=0.96, staircase=True)\n",
        "\n",
        "\n",
        "model.compile(optimizer=tf.keras.optimizers.Adam(learning_rate=lr_schedule),\n",
        "              loss='binary_crossentropy',\n",
        "              metrics= tf.keras.metrics.BinaryAccuracy())\n",
        "model.optimizer.get_config()"
      ]
    },
    {
      "cell_type": "code",
      "execution_count": null,
      "metadata": {
        "colab": {
          "base_uri": "https://localhost:8080/"
        },
        "id": "WlbBFPAAy67v",
        "outputId": "40bc0f6a-c134-488c-9318-ffb46a406ecc"
      },
      "outputs": [
        {
          "output_type": "stream",
          "name": "stdout",
          "text": [
            "<function DatasetV2.list_files at 0x7aeff31bcee0>\n",
            "Epoch 1/35\n",
            "21/21 [==============================] - 30s 1s/step - loss: 0.1638 - binary_accuracy: 0.9340 - val_loss: 0.7275 - val_binary_accuracy: 0.7645\n",
            "Epoch 2/35\n",
            "21/21 [==============================] - 30s 1s/step - loss: 0.1373 - binary_accuracy: 0.9493 - val_loss: 1.4248 - val_binary_accuracy: 0.7645\n",
            "Epoch 3/35\n",
            "21/21 [==============================] - 30s 1s/step - loss: 0.1223 - binary_accuracy: 0.9550 - val_loss: 1.2857 - val_binary_accuracy: 0.7645\n",
            "Epoch 4/35\n",
            "21/21 [==============================] - 30s 1s/step - loss: 0.1127 - binary_accuracy: 0.9557 - val_loss: 1.3729 - val_binary_accuracy: 0.7645\n",
            "Epoch 5/35\n",
            "21/21 [==============================] - 29s 1s/step - loss: 0.0981 - binary_accuracy: 0.9598 - val_loss: 1.9681 - val_binary_accuracy: 0.7645\n",
            "Epoch 6/35\n",
            "21/21 [==============================] - 29s 1s/step - loss: 0.0818 - binary_accuracy: 0.9671 - val_loss: 1.9261 - val_binary_accuracy: 0.7645\n",
            "Epoch 7/35\n",
            "21/21 [==============================] - 29s 1s/step - loss: 0.0843 - binary_accuracy: 0.9669 - val_loss: 1.6211 - val_binary_accuracy: 0.7645\n",
            "Epoch 8/35\n",
            "21/21 [==============================] - 29s 1s/step - loss: 0.0723 - binary_accuracy: 0.9726 - val_loss: 2.0086 - val_binary_accuracy: 0.7645\n",
            "Epoch 9/35\n",
            "21/21 [==============================] - 30s 1s/step - loss: 0.0669 - binary_accuracy: 0.9743 - val_loss: 0.2416 - val_binary_accuracy: 0.9186\n",
            "Epoch 10/35\n",
            "21/21 [==============================] - 29s 1s/step - loss: 0.0663 - binary_accuracy: 0.9752 - val_loss: 0.4059 - val_binary_accuracy: 0.8847\n",
            "Epoch 11/35\n",
            "21/21 [==============================] - 29s 1s/step - loss: 0.0474 - binary_accuracy: 0.9831 - val_loss: 0.2671 - val_binary_accuracy: 0.9225\n",
            "Epoch 12/35\n",
            "21/21 [==============================] - 30s 1s/step - loss: 0.0569 - binary_accuracy: 0.9788 - val_loss: 0.0627 - val_binary_accuracy: 0.9787\n",
            "Epoch 13/35\n",
            "21/21 [==============================] - 30s 1s/step - loss: 0.0528 - binary_accuracy: 0.9774 - val_loss: 0.4451 - val_binary_accuracy: 0.8808\n",
            "Epoch 14/35\n",
            "21/21 [==============================] - 30s 1s/step - loss: 0.0616 - binary_accuracy: 0.9750 - val_loss: 0.3319 - val_binary_accuracy: 0.9244\n",
            "Epoch 15/35\n",
            "21/21 [==============================] - 29s 1s/step - loss: 0.0601 - binary_accuracy: 0.9795 - val_loss: 0.1761 - val_binary_accuracy: 0.9525\n",
            "Epoch 16/35\n",
            "21/21 [==============================] - 30s 1s/step - loss: 0.0545 - binary_accuracy: 0.9786 - val_loss: 0.0535 - val_binary_accuracy: 0.9787\n",
            "Epoch 17/35\n",
            "21/21 [==============================] - 30s 1s/step - loss: 0.0356 - binary_accuracy: 0.9855 - val_loss: 0.5820 - val_binary_accuracy: 0.8808\n",
            "Epoch 18/35\n",
            "21/21 [==============================] - 30s 1s/step - loss: 0.0444 - binary_accuracy: 0.9843 - val_loss: 2.5871 - val_binary_accuracy: 0.6424\n",
            "Epoch 19/35\n",
            "21/21 [==============================] - 30s 1s/step - loss: 0.0423 - binary_accuracy: 0.9840 - val_loss: 0.1711 - val_binary_accuracy: 0.9622\n",
            "Epoch 20/35\n",
            "21/21 [==============================] - 29s 1s/step - loss: 0.0453 - binary_accuracy: 0.9826 - val_loss: 0.8508 - val_binary_accuracy: 0.8779\n",
            "Epoch 21/35\n",
            "21/21 [==============================] - 29s 1s/step - loss: 0.0380 - binary_accuracy: 0.9843 - val_loss: 0.7447 - val_binary_accuracy: 0.8605\n",
            "Epoch 22/35\n",
            "21/21 [==============================] - 29s 1s/step - loss: 0.0342 - binary_accuracy: 0.9874 - val_loss: 0.0962 - val_binary_accuracy: 0.9758\n",
            "Epoch 23/35\n",
            "21/21 [==============================] - 29s 1s/step - loss: 0.0445 - binary_accuracy: 0.9836 - val_loss: 0.6032 - val_binary_accuracy: 0.8760\n",
            "Epoch 24/35\n",
            "21/21 [==============================] - 29s 1s/step - loss: 0.0400 - binary_accuracy: 0.9845 - val_loss: 0.2023 - val_binary_accuracy: 0.9603\n",
            "Epoch 25/35\n",
            "21/21 [==============================] - 29s 1s/step - loss: 0.0288 - binary_accuracy: 0.9879 - val_loss: 0.0350 - val_binary_accuracy: 0.9903\n",
            "Epoch 26/35\n",
            "21/21 [==============================] - 29s 1s/step - loss: 0.0271 - binary_accuracy: 0.9898 - val_loss: 0.2278 - val_binary_accuracy: 0.9370\n",
            "Epoch 27/35\n",
            "21/21 [==============================] - 29s 1s/step - loss: 0.0329 - binary_accuracy: 0.9848 - val_loss: 1.8503 - val_binary_accuracy: 0.7258\n",
            "Epoch 28/35\n",
            "21/21 [==============================] - 30s 1s/step - loss: 0.0425 - binary_accuracy: 0.9836 - val_loss: 2.6327 - val_binary_accuracy: 0.6870\n",
            "Epoch 29/35\n",
            "21/21 [==============================] - 30s 1s/step - loss: 0.0341 - binary_accuracy: 0.9850 - val_loss: 0.9181 - val_binary_accuracy: 0.8595\n",
            "Epoch 30/35\n",
            "21/21 [==============================] - 29s 1s/step - loss: 0.0246 - binary_accuracy: 0.9895 - val_loss: 0.2749 - val_binary_accuracy: 0.9457\n",
            "Epoch 31/35\n",
            "21/21 [==============================] - 30s 1s/step - loss: 0.0194 - binary_accuracy: 0.9933 - val_loss: 0.2216 - val_binary_accuracy: 0.9554\n",
            "Epoch 32/35\n",
            "21/21 [==============================] - 29s 1s/step - loss: 0.0163 - binary_accuracy: 0.9940 - val_loss: 0.0497 - val_binary_accuracy: 0.9893\n",
            "Epoch 33/35\n",
            "21/21 [==============================] - 29s 1s/step - loss: 0.0234 - binary_accuracy: 0.9905 - val_loss: 0.2520 - val_binary_accuracy: 0.9486\n",
            "Epoch 34/35\n",
            "21/21 [==============================] - 30s 1s/step - loss: 0.0268 - binary_accuracy: 0.9912 - val_loss: 0.1350 - val_binary_accuracy: 0.9661\n",
            "Epoch 35/35\n",
            "21/21 [==============================] - 29s 1s/step - loss: 0.0304 - binary_accuracy: 0.9888 - val_loss: 0.0830 - val_binary_accuracy: 0.9709\n"
          ]
        }
      ],
      "source": [
        "epochs=35\n",
        "# train_x = np.asarray(train_x)\n",
        "# train_y = np.asarray(train_y)\n",
        "# validation_x = np.asarray(validation_x)\n",
        "# validation_y = np.asarray(validation_y)\n",
        "print(train_ds.list_files)\n",
        "history = model.fit(\n",
        "  train_ds,\n",
        "  verbose = 1,\n",
        "\n",
        "  validation_data=val_ds,\n",
        "  epochs=epochs,\n",
        "  class_weight=class_weight,\n",
        "  callbacks=[checkpoint_cb, early_stopping_cb],\n",
        ")"
      ]
    },
    {
      "cell_type": "code",
      "execution_count": null,
      "metadata": {
        "id": "WaoV1tiTy81B",
        "colab": {
          "base_uri": "https://localhost:8080/"
        },
        "outputId": "7c680ea6-cae9-42c2-80e1-04cda991a1e6"
      },
      "outputs": [
        {
          "output_type": "stream",
          "name": "stdout",
          "text": [
            "4/4 [==============================] - 1s 84ms/step - loss: 1.7616 - binary_accuracy: 0.7596\n"
          ]
        },
        {
          "output_type": "execute_result",
          "data": {
            "text/plain": [
              "{'loss': 1.7616220712661743, 'binary_accuracy': 0.7596153616905212}"
            ]
          },
          "metadata": {},
          "execution_count": 25
        }
      ],
      "source": [
        "model.evaluate(test_ds, return_dict=True)"
      ]
    },
    {
      "cell_type": "code",
      "execution_count": null,
      "metadata": {
        "id": "Py5rdQjKy_N4",
        "colab": {
          "base_uri": "https://localhost:8080/",
          "height": 472
        },
        "outputId": "f954d3db-ac67-4577-ee9c-b7156f8b0851"
      },
      "outputs": [
        {
          "output_type": "display_data",
          "data": {
            "text/plain": [
              "<Figure size 640x480 with 2 Axes>"
            ],
            "image/png": "[encoded data removed]"
          },
          "metadata": {}
        }
      ],
      "source": [
        "\n",
        "fig, ax = plt.subplots(1, 2, )\n",
        "ax = ax.ravel()\n",
        "\n",
        "for i, met in enumerate([\"binary_accuracy\", \"loss\"]):\n",
        "    ax[i].plot(history.history[met])\n",
        "    ax[i].plot(history.history[\"val_\" + met])\n",
        "    ax[i].set_title(\"Train & Val {}\".format(met))\n",
        "    ax[i].set_xlabel(\"epochs\")\n",
        "    ax[i].set_ylabel(met)\n",
        "    ax[i].legend([\"train\", \"val\"])"
      ]
    }
  ],
  "metadata": {
    "colab": {
      "provenance": []
    },
    "kernelspec": {
      "display_name": "Python 3",
      "name": "python3"
    },
    "language_info": {
      "name": "python"
    },
    "accelerator": "TPU"
  },
  "nbformat": 4,
  "nbformat_minor": 0
}